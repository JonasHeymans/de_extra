{
 "cells": [
  {
   "cell_type": "markdown",
   "source": [
    "We run a webshop that sells all kinds of products and where customers are able to write reviews about those items that they buy. We want to monitor the number of reviews by customers over time so that we can give incentives to do so in case these numbers diminish drastically.\n",
    "\n",
    "The goal of this project is to compute summary statistics from tab separated files that contain reviews for Amazon products. The summary statistics should be stored in a database and displayed on a dashboard to see the evolution of the number of reviews per month.\n"
   ],
   "metadata": {
    "collapsed": false,
    "pycharm": {
     "name": "#%% md\n"
    }
   }
  },
  {
   "cell_type": "code",
   "execution_count": 9,
   "outputs": [],
   "source": [
    "from pyspark.sql import SparkSession\n",
    "import mysql.connector"
   ],
   "metadata": {
    "collapsed": false,
    "pycharm": {
     "name": "#%%\n",
     "is_executing": false
    }
   }
  },
  {
   "cell_type": "code",
   "execution_count": 67,
   "outputs": [
    {
     "data": {
      "text/plain": "b'java version \"1.8.0_241\"\\nJava(TM) SE Runtime Environment (build 1.8.0_241-b07)\\nJava HotSpot(TM) 64-Bit Server VM (build 25.241-b07, mixed mode)\\n'"
     },
     "metadata": {},
     "output_type": "execute_result",
     "execution_count": 67
    }
   ],
   "source": [
    "\n",
    "'''\n",
    "Yeah, don't mind this. It is just for myself to check if I have the correct java version activated.\n",
    "\n",
    "source ~/.bashrc\n",
    "source ~/.bash_profile\n",
    "\n",
    "uncomment the following line in /.bash_profile\n",
    " - export JAVA_HOME=$(/usr/libexec/java_home -v 1.8) pyspark\n",
    "'''\n",
    "import os\n",
    "os.environ['JAVA_HOME'] = '/Library/Java/JavaVirtualMachines/jdk1.8.0_241.jdk/Contents/Home'\n",
    "\n",
    "import subprocess\n",
    "subprocess.check_output(['java', '-version'], stderr=subprocess.STDOUT)\n"
   ],
   "metadata": {
    "collapsed": false,
    "pycharm": {
     "name": "#%%\n",
     "is_executing": false
    }
   }
  },
  {
   "cell_type": "code",
   "execution_count": 68,
   "metadata": {
    "collapsed": true,
    "pycharm": {
     "is_executing": false
    }
   },
   "outputs": [],
   "source": [
    "spark = SparkSession.builder.appName(\"Basics\").getOrCreate()\n"
   ]
  },
  {
   "cell_type": "code",
   "execution_count": 69,
   "outputs": [],
   "source": [
    "amazon = spark.read.csv('../amazon_reviews_multilingual_US_v1_00.tsv', sep='\\t', header=True,inferSchema=True)"
   ],
   "metadata": {
    "collapsed": false,
    "pycharm": {
     "name": "#%%\n",
     "is_executing": false
    }
   }
  },
  {
   "cell_type": "code",
   "execution_count": 70,
   "outputs": [],
   "source": [
    "# amazon.show()"
   ],
   "metadata": {
    "collapsed": false,
    "pycharm": {
     "name": "#%%\n",
     "is_executing": false
    }
   }
  },
  {
   "cell_type": "code",
   "execution_count": 71,
   "outputs": [],
   "source": [
    "# We know from the project description that we only need the \n",
    "# customer_id, review_date, product_category and star_rating columns, \n",
    "# so we'll drop all the other columns.\n",
    "amazon = amazon.select('customer_id', 'review_date', 'product_category', 'star_rating')"
   ],
   "metadata": {
    "collapsed": false,
    "pycharm": {
     "name": "#%%\n",
     "is_executing": false
    }
   }
  },
  {
   "cell_type": "code",
   "execution_count": 72,
   "outputs": [],
   "source": [
    "# amazon.printSchema()\n",
    "\n",
    "'''\n",
    "So there is no problem with our datatypes: Spark doesn't do weird things like\n",
    "saying that a column full of numbers is of type string or something like that.\n",
    "If it does, you can use this code to tell spark, for example, that the \n",
    "customer_id-column has the type 'int'\n",
    "\n",
    "amazon = amazon.withColumn('customer_id', amazon['customer_id'].cast('int'))\n",
    "\n",
    "'''"
   ],
   "metadata": {
    "collapsed": false,
    "pycharm": {
     "name": "#%%\n",
     "is_executing": false
    }
   }
  },
  {
   "cell_type": "code",
   "execution_count": 73,
   "outputs": [
    {
     "data": {
      "text/plain": "DataFrame[review_date: timestamp]"
     },
     "metadata": {},
     "output_type": "execute_result",
     "execution_count": 73
    }
   ],
   "source": [
    "# amazon.select('review_date').show()\n"
   ],
   "metadata": {
    "collapsed": false,
    "pycharm": {
     "name": "#%%\n",
     "is_executing": false
    }
   }
  },
  {
   "cell_type": "code",
   "execution_count": 74,
   "outputs": [],
   "source": [
    "'''\n",
    "Extracting the month from the 'review_date' column , creating a new column\n",
    "called \"month\" and deleting the \"review_date\" column. \n",
    "Please note that this month column is in numerical format (E.g. 1 = \"January\")\n",
    "'''\n",
    "from pyspark.sql.functions import month\n",
    "amazon = amazon.withColumn(\"month\", month(amazon['review_date']))\n",
    "amazon = amazon.drop('review_date')"
   ],
   "metadata": {
    "collapsed": false,
    "pycharm": {
     "name": "#%%\n",
     "is_executing": false
    }
   }
  },
  {
   "cell_type": "code",
   "execution_count": 75,
   "outputs": [],
   "source": [
    "# amazon.show()\n"
   ],
   "metadata": {
    "collapsed": false,
    "pycharm": {
     "name": "#%%\n",
     "is_executing": false
    }
   }
  },
  {
   "cell_type": "code",
   "execution_count": 76,
   "outputs": [],
   "source": [
    "'''\n",
    "Ok, here it gets messy. It is also coded quite dirty but YOLO.\n",
    "\n",
    "What we do here is important however. In the first paragraph we make a \n",
    "new dataframe called 'amazon_grouped' in which we store the data from \n",
    "our amazon dataframe, but also add a new column called 'count'. In this\n",
    "new column we store how many times each unique combination of \n",
    "'month','product_category' and 'star_rating appears in amazon. \n",
    "\n",
    "So, as you can see when you run amazon_grouped.show() \"month = 1,\n",
    "product_category = Apparel and star_rating = 1\" appears only one\n",
    "time in amazon, while \"month = 1, product_category = Apparel and \n",
    "star_rating = 5\" appears no less than 9 times! \n",
    "(Yay, people are happy with the clothes they buy at amazon in January. \n",
    "Probably because they just got new money thanks to selling the sweaters \n",
    "and the Mamma Mia Blu-ray they got as a present from grandma, fucking \n",
    "ungrateful shits)\n",
    "\n",
    "In the second paragraph we do the same, but now only for the unique \n",
    "combinations of 'month' and'product_category'. Which, as you might\n",
    "have guessed, gives us way less rows and higher values in the counts-column,\n",
    "which I renamed here to \"count_per_month\"\n",
    "\n",
    "In the last paragraph we add both columns together to make our \n",
    "final_dataframe.\n",
    "\n",
    "If you don't understand this part completely, no worries: I'll explain it\n",
    "to you in the call and you'll see that is actually quite easy, pinky promise! \n",
    "\n",
    "'''\n",
    "\n",
    "feature_group = ['month','product_category','star_rating']\n",
    "amazon_grouped = amazon.groupBy(feature_group).count()\n",
    "# print('amazon_grouped')\n",
    "# amazon_grouped.sort('product_category','month','star_rating').show()\n",
    "\n",
    "per_month = amazon.groupBy('month','product_category').count()\n",
    "per_month = per_month.withColumnRenamed('count', \"count_per_month\")\n",
    "# print('per_month')\n",
    "# per_month.sort('product_category','month').show()\n",
    "\n",
    "final_dataframe = amazon_grouped.join(per_month, on= ['month','product_category'], how='inner')"
   ],
   "metadata": {
    "collapsed": false,
    "pycharm": {
     "name": "#%%\n",
     "is_executing": false
    }
   }
  },
  {
   "cell_type": "code",
   "execution_count": 77,
   "outputs": [
    {
     "name": "stdout",
     "text": [
      "final_dataframe\n"
     ],
     "output_type": "stream"
    },
    {
     "traceback": [
      "\u001b[0;31m---------------------------------------------------------------------------\u001b[0m",
      "\u001b[0;31mKeyboardInterrupt\u001b[0m                         Traceback (most recent call last)",
      "\u001b[0;32m<ipython-input-77-6adb9fb4b0fe>\u001b[0m in \u001b[0;36m<module>\u001b[0;34m\u001b[0m\n\u001b[1;32m      1\u001b[0m \u001b[0;34m\u001b[0m\u001b[0m\n\u001b[1;32m      2\u001b[0m \u001b[0mprint\u001b[0m\u001b[0;34m(\u001b[0m\u001b[0;34m'final_dataframe'\u001b[0m\u001b[0;34m)\u001b[0m\u001b[0;34m\u001b[0m\u001b[0;34m\u001b[0m\u001b[0m\n\u001b[0;32m----> 3\u001b[0;31m \u001b[0mfinal_dataframe\u001b[0m\u001b[0;34m.\u001b[0m\u001b[0msort\u001b[0m\u001b[0;34m(\u001b[0m\u001b[0;34m'product_category'\u001b[0m\u001b[0;34m,\u001b[0m\u001b[0;34m'month'\u001b[0m\u001b[0;34m,\u001b[0m\u001b[0;34m'star_rating'\u001b[0m\u001b[0;34m)\u001b[0m\u001b[0;34m.\u001b[0m\u001b[0mshow\u001b[0m\u001b[0;34m(\u001b[0m\u001b[0;34m)\u001b[0m\u001b[0;34m\u001b[0m\u001b[0;34m\u001b[0m\u001b[0m\n\u001b[0m\u001b[1;32m      4\u001b[0m \u001b[0;34m\u001b[0m\u001b[0m\n",
      "\u001b[0;32m/Library/Frameworks/Python.framework/Versions/3.7/lib/python3.7/site-packages/pyspark/sql/dataframe.py\u001b[0m in \u001b[0;36mshow\u001b[0;34m(self, n, truncate, vertical)\u001b[0m\n\u001b[1;32m    378\u001b[0m         \"\"\"\n\u001b[1;32m    379\u001b[0m         \u001b[0;32mif\u001b[0m \u001b[0misinstance\u001b[0m\u001b[0;34m(\u001b[0m\u001b[0mtruncate\u001b[0m\u001b[0;34m,\u001b[0m \u001b[0mbool\u001b[0m\u001b[0;34m)\u001b[0m \u001b[0;32mand\u001b[0m \u001b[0mtruncate\u001b[0m\u001b[0;34m:\u001b[0m\u001b[0;34m\u001b[0m\u001b[0;34m\u001b[0m\u001b[0m\n\u001b[0;32m--> 380\u001b[0;31m             \u001b[0mprint\u001b[0m\u001b[0;34m(\u001b[0m\u001b[0mself\u001b[0m\u001b[0;34m.\u001b[0m\u001b[0m_jdf\u001b[0m\u001b[0;34m.\u001b[0m\u001b[0mshowString\u001b[0m\u001b[0;34m(\u001b[0m\u001b[0mn\u001b[0m\u001b[0;34m,\u001b[0m \u001b[0;36m20\u001b[0m\u001b[0;34m,\u001b[0m \u001b[0mvertical\u001b[0m\u001b[0;34m)\u001b[0m\u001b[0;34m)\u001b[0m\u001b[0;34m\u001b[0m\u001b[0;34m\u001b[0m\u001b[0m\n\u001b[0m\u001b[1;32m    381\u001b[0m         \u001b[0;32melse\u001b[0m\u001b[0;34m:\u001b[0m\u001b[0;34m\u001b[0m\u001b[0;34m\u001b[0m\u001b[0m\n\u001b[1;32m    382\u001b[0m             \u001b[0mprint\u001b[0m\u001b[0;34m(\u001b[0m\u001b[0mself\u001b[0m\u001b[0;34m.\u001b[0m\u001b[0m_jdf\u001b[0m\u001b[0;34m.\u001b[0m\u001b[0mshowString\u001b[0m\u001b[0;34m(\u001b[0m\u001b[0mn\u001b[0m\u001b[0;34m,\u001b[0m \u001b[0mint\u001b[0m\u001b[0;34m(\u001b[0m\u001b[0mtruncate\u001b[0m\u001b[0;34m)\u001b[0m\u001b[0;34m,\u001b[0m \u001b[0mvertical\u001b[0m\u001b[0;34m)\u001b[0m\u001b[0;34m)\u001b[0m\u001b[0;34m\u001b[0m\u001b[0;34m\u001b[0m\u001b[0m\n",
      "\u001b[0;32m/Library/Frameworks/Python.framework/Versions/3.7/lib/python3.7/site-packages/py4j/java_gateway.py\u001b[0m in \u001b[0;36m__call__\u001b[0;34m(self, *args)\u001b[0m\n\u001b[1;32m   1253\u001b[0m             \u001b[0mproto\u001b[0m\u001b[0;34m.\u001b[0m\u001b[0mEND_COMMAND_PART\u001b[0m\u001b[0;34m\u001b[0m\u001b[0;34m\u001b[0m\u001b[0m\n\u001b[1;32m   1254\u001b[0m \u001b[0;34m\u001b[0m\u001b[0m\n\u001b[0;32m-> 1255\u001b[0;31m         \u001b[0manswer\u001b[0m \u001b[0;34m=\u001b[0m \u001b[0mself\u001b[0m\u001b[0;34m.\u001b[0m\u001b[0mgateway_client\u001b[0m\u001b[0;34m.\u001b[0m\u001b[0msend_command\u001b[0m\u001b[0;34m(\u001b[0m\u001b[0mcommand\u001b[0m\u001b[0;34m)\u001b[0m\u001b[0;34m\u001b[0m\u001b[0;34m\u001b[0m\u001b[0m\n\u001b[0m\u001b[1;32m   1256\u001b[0m         return_value = get_return_value(\n\u001b[1;32m   1257\u001b[0m             answer, self.gateway_client, self.target_id, self.name)\n",
      "\u001b[0;32m/Library/Frameworks/Python.framework/Versions/3.7/lib/python3.7/site-packages/py4j/java_gateway.py\u001b[0m in \u001b[0;36msend_command\u001b[0;34m(self, command, retry, binary)\u001b[0m\n\u001b[1;32m    983\u001b[0m         \u001b[0mconnection\u001b[0m \u001b[0;34m=\u001b[0m \u001b[0mself\u001b[0m\u001b[0;34m.\u001b[0m\u001b[0m_get_connection\u001b[0m\u001b[0;34m(\u001b[0m\u001b[0;34m)\u001b[0m\u001b[0;34m\u001b[0m\u001b[0;34m\u001b[0m\u001b[0m\n\u001b[1;32m    984\u001b[0m         \u001b[0;32mtry\u001b[0m\u001b[0;34m:\u001b[0m\u001b[0;34m\u001b[0m\u001b[0;34m\u001b[0m\u001b[0m\n\u001b[0;32m--> 985\u001b[0;31m             \u001b[0mresponse\u001b[0m \u001b[0;34m=\u001b[0m \u001b[0mconnection\u001b[0m\u001b[0;34m.\u001b[0m\u001b[0msend_command\u001b[0m\u001b[0;34m(\u001b[0m\u001b[0mcommand\u001b[0m\u001b[0;34m)\u001b[0m\u001b[0;34m\u001b[0m\u001b[0;34m\u001b[0m\u001b[0m\n\u001b[0m\u001b[1;32m    986\u001b[0m             \u001b[0;32mif\u001b[0m \u001b[0mbinary\u001b[0m\u001b[0;34m:\u001b[0m\u001b[0;34m\u001b[0m\u001b[0;34m\u001b[0m\u001b[0m\n\u001b[1;32m    987\u001b[0m                 \u001b[0;32mreturn\u001b[0m \u001b[0mresponse\u001b[0m\u001b[0;34m,\u001b[0m \u001b[0mself\u001b[0m\u001b[0;34m.\u001b[0m\u001b[0m_create_connection_guard\u001b[0m\u001b[0;34m(\u001b[0m\u001b[0mconnection\u001b[0m\u001b[0;34m)\u001b[0m\u001b[0;34m\u001b[0m\u001b[0;34m\u001b[0m\u001b[0m\n",
      "\u001b[0;32m/Library/Frameworks/Python.framework/Versions/3.7/lib/python3.7/site-packages/py4j/java_gateway.py\u001b[0m in \u001b[0;36msend_command\u001b[0;34m(self, command)\u001b[0m\n\u001b[1;32m   1150\u001b[0m \u001b[0;34m\u001b[0m\u001b[0m\n\u001b[1;32m   1151\u001b[0m         \u001b[0;32mtry\u001b[0m\u001b[0;34m:\u001b[0m\u001b[0;34m\u001b[0m\u001b[0;34m\u001b[0m\u001b[0m\n\u001b[0;32m-> 1152\u001b[0;31m             \u001b[0manswer\u001b[0m \u001b[0;34m=\u001b[0m \u001b[0msmart_decode\u001b[0m\u001b[0;34m(\u001b[0m\u001b[0mself\u001b[0m\u001b[0;34m.\u001b[0m\u001b[0mstream\u001b[0m\u001b[0;34m.\u001b[0m\u001b[0mreadline\u001b[0m\u001b[0;34m(\u001b[0m\u001b[0;34m)\u001b[0m\u001b[0;34m[\u001b[0m\u001b[0;34m:\u001b[0m\u001b[0;34m-\u001b[0m\u001b[0;36m1\u001b[0m\u001b[0;34m]\u001b[0m\u001b[0;34m)\u001b[0m\u001b[0;34m\u001b[0m\u001b[0;34m\u001b[0m\u001b[0m\n\u001b[0m\u001b[1;32m   1153\u001b[0m             \u001b[0mlogger\u001b[0m\u001b[0;34m.\u001b[0m\u001b[0mdebug\u001b[0m\u001b[0;34m(\u001b[0m\u001b[0;34m\"Answer received: {0}\"\u001b[0m\u001b[0;34m.\u001b[0m\u001b[0mformat\u001b[0m\u001b[0;34m(\u001b[0m\u001b[0manswer\u001b[0m\u001b[0;34m)\u001b[0m\u001b[0;34m)\u001b[0m\u001b[0;34m\u001b[0m\u001b[0;34m\u001b[0m\u001b[0m\n\u001b[1;32m   1154\u001b[0m             \u001b[0;32mif\u001b[0m \u001b[0manswer\u001b[0m\u001b[0;34m.\u001b[0m\u001b[0mstartswith\u001b[0m\u001b[0;34m(\u001b[0m\u001b[0mproto\u001b[0m\u001b[0;34m.\u001b[0m\u001b[0mRETURN_MESSAGE\u001b[0m\u001b[0;34m)\u001b[0m\u001b[0;34m:\u001b[0m\u001b[0;34m\u001b[0m\u001b[0;34m\u001b[0m\u001b[0m\n",
      "\u001b[0;32m/Library/Frameworks/Python.framework/Versions/3.7/lib/python3.7/socket.py\u001b[0m in \u001b[0;36mreadinto\u001b[0;34m(self, b)\u001b[0m\n\u001b[1;32m    587\u001b[0m         \u001b[0;32mwhile\u001b[0m \u001b[0;32mTrue\u001b[0m\u001b[0;34m:\u001b[0m\u001b[0;34m\u001b[0m\u001b[0;34m\u001b[0m\u001b[0m\n\u001b[1;32m    588\u001b[0m             \u001b[0;32mtry\u001b[0m\u001b[0;34m:\u001b[0m\u001b[0;34m\u001b[0m\u001b[0;34m\u001b[0m\u001b[0m\n\u001b[0;32m--> 589\u001b[0;31m                 \u001b[0;32mreturn\u001b[0m \u001b[0mself\u001b[0m\u001b[0;34m.\u001b[0m\u001b[0m_sock\u001b[0m\u001b[0;34m.\u001b[0m\u001b[0mrecv_into\u001b[0m\u001b[0;34m(\u001b[0m\u001b[0mb\u001b[0m\u001b[0;34m)\u001b[0m\u001b[0;34m\u001b[0m\u001b[0;34m\u001b[0m\u001b[0m\n\u001b[0m\u001b[1;32m    590\u001b[0m             \u001b[0;32mexcept\u001b[0m \u001b[0mtimeout\u001b[0m\u001b[0;34m:\u001b[0m\u001b[0;34m\u001b[0m\u001b[0;34m\u001b[0m\u001b[0m\n\u001b[1;32m    591\u001b[0m                 \u001b[0mself\u001b[0m\u001b[0;34m.\u001b[0m\u001b[0m_timeout_occurred\u001b[0m \u001b[0;34m=\u001b[0m \u001b[0;32mTrue\u001b[0m\u001b[0;34m\u001b[0m\u001b[0;34m\u001b[0m\u001b[0m\n",
      "\u001b[0;31mKeyboardInterrupt\u001b[0m: "
     ],
     "ename": "KeyboardInterrupt",
     "evalue": "",
     "output_type": "error"
    }
   ],
   "source": [
    "# print('final_dataframe')\n",
    "# final_dataframe.sort('product_category','month','star_rating').show()"
   ],
   "metadata": {
    "collapsed": false,
    "pycharm": {
     "name": "#%%\n",
     "is_executing": false
    }
   }
  },
  {
   "cell_type": "code",
   "execution_count": null,
   "outputs": [],
   "source": [
    "'''\n",
    "Comment these lines if you don't want to get Rick rolled and learn the danger of running \n",
    "code without understanding what it does or reading the documentation.\n",
    "'''\n",
    "\n",
    "import webbrowser\n",
    "webbrowser.open('https://www.youtube.com/watch?v=dQw4w9WgXcQ') "
   ],
   "metadata": {
    "collapsed": false,
    "pycharm": {
     "name": "#%%\n",
     "is_executing": false
    }
   }
  },
  {
   "cell_type": "code",
   "execution_count": 13,
   "outputs": [],
   "source": [
    "# It is bad practice to hardcode your passwords into your programs. \n",
    "# That's why we prompt the user here to type it in himself every time the program runs\n",
    "database_password = input(\"Can I have your password please?\")"
   ],
   "metadata": {
    "collapsed": false,
    "pycharm": {
     "name": "#%%\n",
     "is_executing": false
    }
   }
  },
  {
   "cell_type": "code",
   "execution_count": 14,
   "outputs": [],
   "source": [
    "# Setting up a connection with our local database and creating a cursor\n",
    "\n",
    "cnx = mysql.connector.connect(\n",
    "    host = '127.0.0.1',\n",
    "    user = 'root',\n",
    "    passwd = database_password,\n",
    "    auth_plugin='mysql_native_password',\n",
    "    buffered=True\n",
    ")\n",
    "\n",
    "my_cursor = cnx.cursor()\n"
   ],
   "metadata": {
    "collapsed": false,
    "pycharm": {
     "name": "#%%\n",
     "is_executing": false
    }
   }
  },
  {
   "cell_type": "code",
   "execution_count": 21,
   "outputs": [
    {
     "name": "stdout",
     "text": [
      "CREATE DATABASE IF NOT EXISTS amazon\n",
      "\n",
      "\n",
      "use amazon\n",
      "\n",
      "\n",
      "drop table IF EXISTS scores\n",
      "\n",
      "\n",
      "create table IF NOT EXISTS scores(\n",
      "    month int,\n",
      "    product_category varchar(200),\n",
      "    star_rating int,\n",
      "    count int,\n",
      "    count_per_month int\n",
      "\n",
      ")\n",
      "\n",
      "\n",
      "\n",
      "\n",
      "['CREATE DATABASE IF NOT EXISTS amazon', '\\n\\nuse amazon', '\\n\\ndrop table IF EXISTS scores', '\\n\\ncreate table IF NOT EXISTS scores(\\n    month int,\\n    product_category varchar(200),\\n    star_rating int,\\n    count int,\\n    count_per_month int\\n\\n)\\n\\n\\n\\n']\n"
     ],
     "output_type": "stream"
    }
   ],
   "source": [
    "# Here we run the \"amazon.sql\" file, in which we set up our database and\n",
    "# insert a table into it.\n",
    "path = \"amazon.sql\"\n",
    "for line in open(path).read().split(';'):\n",
    "    my_cursor.execute(line)\n",
    "    print(line)"
   ],
   "metadata": {
    "collapsed": false,
    "pycharm": {
     "name": "#%%\n",
     "is_executing": false
    }
   }
  },
  {
   "cell_type": "code",
   "execution_count": 22,
   "outputs": [
    {
     "traceback": [
      "\u001b[0;31m---------------------------------------------------------------------------\u001b[0m",
      "\u001b[0;31mNameError\u001b[0m                                 Traceback (most recent call last)",
      "\u001b[0;32m<ipython-input-22-01b99596e264>\u001b[0m in \u001b[0;36m<module>\u001b[0;34m\u001b[0m\n\u001b[1;32m      2\u001b[0m \u001b[0;31m# Read the documentation to know what this method does you lazy fuck!\u001b[0m\u001b[0;34m\u001b[0m\u001b[0;34m\u001b[0m\u001b[0;34m\u001b[0m\u001b[0m\n\u001b[1;32m      3\u001b[0m \u001b[0;34m\u001b[0m\u001b[0m\n\u001b[0;32m----> 4\u001b[0;31m \u001b[0mcollect\u001b[0m \u001b[0;34m=\u001b[0m \u001b[0mfinal_dataframe\u001b[0m\u001b[0;34m.\u001b[0m\u001b[0mcollect\u001b[0m\u001b[0;34m(\u001b[0m\u001b[0;34m)\u001b[0m\u001b[0;34m\u001b[0m\u001b[0;34m\u001b[0m\u001b[0m\n\u001b[0m\u001b[1;32m      5\u001b[0m \u001b[0;34m\u001b[0m\u001b[0m\n\u001b[1;32m      6\u001b[0m '''\n",
      "\u001b[0;31mNameError\u001b[0m: name 'final_dataframe' is not defined"
     ],
     "ename": "NameError",
     "evalue": "name 'final_dataframe' is not defined",
     "output_type": "error"
    }
   ],
   "source": [
    "# Read the documentation to know what this method does you lazy fuck! \n",
    "\n",
    "collect = final_dataframe.collect()\n",
    "\n",
    "'''\n",
    "Ok, I'll help because who in the world reads documentation: \n",
    "collect() returns all the records as a list of Row. \n",
    "\n",
    "So we'll get a list of all the records in this shape: \n",
    "Row(month=8, product_category='Video', star_rating=1, count=286, count_per_month=5074 )\n",
    "'''"
   ],
   "metadata": {
    "collapsed": false,
    "pycharm": {
     "name": "#%%\n",
     "is_executing": false
    }
   }
  },
  {
   "cell_type": "code",
   "execution_count": 82,
   "outputs": [],
   "source": [
    "total = final_dataframe.count()"
   ],
   "metadata": {
    "collapsed": false,
    "pycharm": {
     "name": "#%%\n",
     "is_executing": false
    }
   }
  },
  {
   "cell_type": "code",
   "execution_count": 83,
   "outputs": [
    {
     "name": "stdout",
     "text": [
      "Progress: 0.0%\n",
      "Progress: 52.0%\n",
      "DONE!\n"
     ],
     "output_type": "stream"
    }
   ],
   "source": [
    "'''\n",
    "Ok, this is another hard part (but not really once you get it). I could again\n",
    "explain here every line and show what it does, but that would result in a \n",
    "wall of text and also I'm getting bored. So let's give this a didactic spin \n",
    "(which has nothing to do with the fact that the sun is shining and I want to \n",
    "go outside) and say that you can try and figure it out yourself as an exercise.\n",
    "Yes, let's say that: it's an exercise... \n",
    "\n",
    "'''\n",
    "for x in range (total):\n",
    "    \n",
    "    # Extracting the month of the x'th row and saving it to a variable called \n",
    "    # 'month' (and the same for the other variables)\n",
    "    month = collect[x][0]\n",
    "    product_category = collect[x][1]\n",
    "    star_rating = collect[x][2]\n",
    "    count = collect[x][3]\n",
    "    count_per_month = collect[x][4]\n",
    "    \n",
    "    # Saving these newly created variables into the 'scores' table \n",
    "    # (cf. amazon.sql) into the similarly named columns\n",
    "    my_cursor.execute(\"INSERT INTO \"\n",
    "                      \"scores(month,product_category,star_rating,count, count_per_month) \"\n",
    "                      \"values(%s, %s,%s, %s, %s)\", \n",
    "                      (month,product_category,star_rating,count,count_per_month))\n",
    "\n",
    "\n",
    "    # Saving our database after every 1000'th row (not really 'saving' \n",
    "    # but let's say it does) so that even if our program crashes, we still\n",
    "    # don't lose all our progress. Also: printing our progress in percent, \n",
    "    # because it's pretty to see that number go up.\n",
    "    if(x%1000 == 0):\n",
    "        cnx.commit()\n",
    "        \n",
    "        progress = round(100 * x/total, 2)\n",
    "\n",
    "        print(\"Progress: %s%%\" % progress)\n",
    "        \n",
    "cnx.commit()\n",
    "\n",
    "print(\"DONE!\") \n"
   ],
   "metadata": {
    "collapsed": false,
    "pycharm": {
     "name": "#%%\n",
     "is_executing": false
    }
   }
  },
  {
   "cell_type": "code",
   "execution_count": null,
   "outputs": [],
   "source": [
    "# Congratulations on making it through!! \n",
    "\n",
    "import webbrowser\n",
    "webbrowser.open('https://media.giphy.com/media/fxsqOYnIMEefC/giphy.gif')\n",
    "webbrowser.open('https://media.giphy.com/media/gFccuw5vFkc9trBiQ1/giphy.gif')\n",
    "\n"
   ],
   "metadata": {
    "collapsed": false,
    "pycharm": {
     "name": "#%%\n",
     "is_executing": false
    }
   }
  },
  {
   "cell_type": "code",
   "execution_count": null,
   "outputs": [],
   "source": [
    "\n"
   ],
   "metadata": {
    "collapsed": false,
    "pycharm": {
     "name": "#%%\n",
     "is_executing": false
    }
   }
  }
 ],
 "metadata": {
  "kernelspec": {
   "name": "python3",
   "language": "python",
   "display_name": "Python 3"
  },
  "language_info": {
   "codemirror_mode": {
    "name": "ipython",
    "version": 2
   },
   "file_extension": ".py",
   "mimetype": "text/x-python",
   "name": "python",
   "nbconvert_exporter": "python",
   "pygments_lexer": "ipython2",
   "version": "2.7.6"
  },
  "pycharm": {
   "stem_cell": {
    "cell_type": "raw",
    "source": [],
    "metadata": {
     "collapsed": false
    }
   }
  }
 },
 "nbformat": 4,
 "nbformat_minor": 0
}
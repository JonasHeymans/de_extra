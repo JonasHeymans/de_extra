{
 "cells": [
  {
   "cell_type": "markdown",
   "source": [
    "### step one : imports and read in data\n",
    "    "
   ],
   "metadata": {
    "collapsed": false
   }
  },
  {
   "cell_type": "code",
   "execution_count": 1,
   "outputs": [],
   "source": [
    "from pyspark.sql import SparkSession\n",
    "\n",
    "import os\n",
    "os.environ['JAVA_HOME'] = '/Library/Java/JavaVirtualMachines/jdk1.8.0_241.jdk/Contents/Home'\n",
    "\n"
   ],
   "metadata": {
    "collapsed": false,
    "pycharm": {
     "name": "#%% \n",
     "is_executing": false
    }
   }
  },
  {
   "cell_type": "code",
   "execution_count": 2,
   "outputs": [],
   "source": [
    "spark = SparkSession.builder.appName(\"Basics\").getOrCreate()\n",
    "amazon = spark.read.csv('../amazon_reviews_multilingual_US_v1_00.tsv', sep='\\t', header=True, inferSchema=True)"
   ],
   "metadata": {
    "collapsed": false,
    "pycharm": {
     "name": "#%%\n",
     "is_executing": false
    }
   }
  },
  {
   "cell_type": "markdown",
   "source": [
    "### step two : explore your data"
   ],
   "metadata": {
    "collapsed": false,
    "pycharm": {
     "name": "#%% md\n"
    }
   }
  },
  {
   "cell_type": "code",
   "execution_count": 3,
   "outputs": [
    {
     "name": "stdout",
     "text": [
      "root\n",
      " |-- marketplace: string (nullable = true)\n",
      " |-- customer_id: integer (nullable = true)\n",
      " |-- review_id: string (nullable = true)\n",
      " |-- product_id: string (nullable = true)\n",
      " |-- product_parent: integer (nullable = true)\n",
      " |-- product_title: string (nullable = true)\n",
      " |-- product_category: string (nullable = true)\n",
      " |-- star_rating: integer (nullable = true)\n",
      " |-- helpful_votes: integer (nullable = true)\n",
      " |-- total_votes: integer (nullable = true)\n",
      " |-- vine: string (nullable = true)\n",
      " |-- verified_purchase: string (nullable = true)\n",
      " |-- review_headline: string (nullable = true)\n",
      " |-- review_body: string (nullable = true)\n",
      " |-- review_date: timestamp (nullable = true)\n",
      "\n"
     ],
     "output_type": "stream"
    }
   ],
   "source": [
    "#Let's look at the datatypes of each column\n",
    "amazon.printSchema()"
   ],
   "metadata": {
    "collapsed": false,
    "pycharm": {
     "name": "#%%\n",
     "is_executing": false
    }
   }
  },
  {
   "cell_type": "code",
   "execution_count": 4,
   "outputs": [
    {
     "data": {
      "text/plain": "['marketplace',\n 'customer_id',\n 'review_id',\n 'product_id',\n 'product_parent',\n 'product_title',\n 'product_category',\n 'star_rating',\n 'helpful_votes',\n 'total_votes',\n 'vine',\n 'verified_purchase',\n 'review_headline',\n 'review_body',\n 'review_date']"
     },
     "metadata": {},
     "output_type": "execute_result",
     "execution_count": 4
    }
   ],
   "source": [
    "#What are my columns?\n",
    "amazon.columns"
   ],
   "metadata": {
    "collapsed": false,
    "pycharm": {
     "name": "#%%\n",
     "is_executing": false
    }
   }
  },
  {
   "cell_type": "code",
   "execution_count": 5,
   "outputs": [
    {
     "name": "stdout",
     "text": [
      "+-----------+-----------+--------------+----------+--------------+--------------------+----------------+-----------+-------------+-----------+----+-----------------+--------------------+--------------------+-------------------+\n",
      "|marketplace|customer_id|     review_id|product_id|product_parent|       product_title|product_category|star_rating|helpful_votes|total_votes|vine|verified_purchase|     review_headline|         review_body|        review_date|\n",
      "+-----------+-----------+--------------+----------+--------------+--------------------+----------------+-----------+-------------+-----------+----+-----------------+--------------------+--------------------+-------------------+\n",
      "|         US|   53096384| R63J84G1LOX6R|1563890119|     763187671|The Sandman Vol. ...|           Books|          4|            0|          1|   N|                N|ignore the review...|this is the first...|1995-08-13 00:00:00|\n",
      "|         US|   53096399|R1BALOA11Z06MT|1559947608|     381720534|The 22 Immutable ...|           Books|          4|            0|          0|   N|                N|             awesome|I've always been ...|1995-08-17 00:00:00|\n",
      "|         US|   53096332|R1LLAY5W5PZUS4|0671701800|     860650224|             Contact|           Books|          5|            1|          2|   N|                N|Read the book. It...|This is a book ab...|1995-08-30 00:00:00|\n",
      "|         US|   53096335|R3R9VTJ82FXECQ|0425132153|     624269601|          Good Omens|           Books|          5|            0|          0|   N|                N|Funniest book eve...|This is quite pos...|1995-09-11 00:00:00|\n",
      "|         US|   51747709|R1P5J3FNBWTFXY|0517122707|     161411385|A Confederacy of ...|           Books|          5|            0|          0|   N|                N|A winner that did...|The story behind ...|1995-10-17 00:00:00|\n",
      "|         US|   53095881|R2XQTCOBWNCEAC|0345350499|     627223385| The Mists of Avalon|           Books|          5|            0|          0|   N|                N|One of the best b...|Marion Zimmer Bra...|1995-11-02 00:00:00|\n",
      "|         US|   53096485|  R87VUTMFOE6N|B000002OTL|     877615083|Pulp Fiction: Mus...|           Music|          5|            0|          1|   N|                N|Pulp Fiction Soun...|Pulp Fiction the ...|1995-11-11 00:00:00|\n",
      "|         US|   53096485| RVS529AN21RR3|6302136105|     701401373|     The Doors [VHS]|           Video|          5|            1|          2|   N|                N|The Doors: The be...|The Doors is one ...|1995-11-11 00:00:00|\n",
      "|         US|   53095748| RG6LPC4W8LN29|0399134204|      31287929|   The Joy Luck Club|           Books|          5|            0|          1|   N|                N|Gives a deeper un...|The book in some ...|1995-11-15 00:00:00|\n",
      "|         US|   53071277| RDFIE1IF0IYFH|0887306667|     381720534|The 22 Immutable ...|           Books|          5|            0|          0|   N|                N|One of the best m...|This book is a fa...|1996-05-12 00:00:00|\n",
      "|         US|   53092169|R118UFZDTS9K8P|044022165X|     511419057|       The Rainmaker|           Books|          5|            2|          2|   N|                N|A definite page t...|John Grisham's Th...|1996-05-15 00:00:00|\n",
      "|         US|   53091057|R3M7XTU4Y95NV6|0425107469|      50861192|            Watchers|           Books|          5|            1|          2|   N|                N|The best book tha...|This was my first...|1996-05-17 00:00:00|\n",
      "|         US|   53092180|R1KLWU5B78FKDR|0880389052|     243097701|Homeland (Forgott...|           Books|          5|            1|          1|   N|                N|Homeland is the b...|I usually don't l...|1996-05-17 00:00:00|\n",
      "|         US|   53068480|R1BGW1GTUGJZXJ|0446310786|     994527755|To Kill a Mocking...|           Books|          5|            0|          1|   N|                N|Extraordinary sto...|On the surface, f...|1996-05-18 00:00:00|\n",
      "|         US|   53092058| R5UI1Q87QAZKH|0385040199|     636860937|Anne Frank: Diary...|           Books|          5|            1|          1|   N|                N|How do you review...|How do you review...|1996-05-19 00:00:00|\n",
      "|         US|   52152881| R4X9DR0KSYFXD|B000001FBU|     880908728|Creatures of the ...|           Music|          4|            1|          1|   N|                N|Kiss' return to h...|After briefly vis...|1996-05-20 00:00:00|\n",
      "|         US|   53091884|R1TOE3LHCXE3DO|0679731377|      62087535|A History of the ...|           Books|          5|            0|          0|   N|                N|The best book I'v...|Barnes is a true ...|1996-05-21 00:00:00|\n",
      "|         US|   53093609|R3IME3JO53P3EM|0451169514|     380266608|                  It|           Books|          5|            1|          1|   N|                N|One of Stephen Ki...|I have to say, th...|1996-05-22 00:00:00|\n",
      "|         US|   53081592| R63DTB2NEMWYE|0316920045|     669738240|Infinite Jest: A ...|           Books|          5|            0|          1|   N|                N|Infinite Jest: I'...|I've been waiting...|1996-05-23 00:00:00|\n",
      "|         US|   52510867|R1PY156QM1IKZN|0451175123|     594264062|The Fountainhead:...|           Books|          5|            0|          0|   N|                N|Powerful work of ...|Ayn Rand was the ...|1996-05-23 00:00:00|\n",
      "+-----------+-----------+--------------+----------+--------------+--------------------+----------------+-----------+-------------+-----------+----+-----------------+--------------------+--------------------+-------------------+\n",
      "only showing top 20 rows\n",
      "\n"
     ],
     "output_type": "stream"
    }
   ],
   "source": [
    "# What is in my dataset\n",
    "amazon.show()"
   ],
   "metadata": {
    "collapsed": false,
    "pycharm": {
     "name": "#%%\n",
     "is_executing": false
    }
   }
  },
  {
   "cell_type": "code",
   "execution_count": null,
   "outputs": [],
   "source": [
    "# What happens if we don't include header?\n",
    "amazon_zonder_header = spark.read.csv('../amazon_reviews_multilingual_US_v1_00.tsv', sep='\\t', header=False, inferSchema=True)\n",
    "amazon_zonder_header.show()"
   ],
   "metadata": {
    "collapsed": false,
    "pycharm": {
     "name": "#%%\n"
    }
   }
  },
  {
   "cell_type": "code",
   "execution_count": 6,
   "outputs": [
    {
     "name": "stdout",
     "text": [
      "+-----------+-------------------+----------------+-----------+\n",
      "|customer_id|        review_date|product_category|star_rating|\n",
      "+-----------+-------------------+----------------+-----------+\n",
      "|   53096384|1995-08-13 00:00:00|           Books|          4|\n",
      "|   53096399|1995-08-17 00:00:00|           Books|          4|\n",
      "|   53096332|1995-08-30 00:00:00|           Books|          5|\n",
      "|   53096335|1995-09-11 00:00:00|           Books|          5|\n",
      "|   51747709|1995-10-17 00:00:00|           Books|          5|\n",
      "|   53095881|1995-11-02 00:00:00|           Books|          5|\n",
      "|   53096485|1995-11-11 00:00:00|           Music|          5|\n",
      "|   53096485|1995-11-11 00:00:00|           Video|          5|\n",
      "|   53095748|1995-11-15 00:00:00|           Books|          5|\n",
      "|   53071277|1996-05-12 00:00:00|           Books|          5|\n",
      "|   53092169|1996-05-15 00:00:00|           Books|          5|\n",
      "|   53091057|1996-05-17 00:00:00|           Books|          5|\n",
      "|   53092180|1996-05-17 00:00:00|           Books|          5|\n",
      "|   53068480|1996-05-18 00:00:00|           Books|          5|\n",
      "|   53092058|1996-05-19 00:00:00|           Books|          5|\n",
      "|   52152881|1996-05-20 00:00:00|           Music|          4|\n",
      "|   53091884|1996-05-21 00:00:00|           Books|          5|\n",
      "|   53093609|1996-05-22 00:00:00|           Books|          5|\n",
      "|   53081592|1996-05-23 00:00:00|           Books|          5|\n",
      "|   52510867|1996-05-23 00:00:00|           Books|          5|\n",
      "+-----------+-------------------+----------------+-----------+\n",
      "only showing top 20 rows\n",
      "\n"
     ],
     "output_type": "stream"
    }
   ],
   "source": [
    "# We know from the project description that we only need the \n",
    "# customer_id, review_date, product_category and star_rating columns, \n",
    "# so we'll drop all the other columns.\n",
    "amazon = amazon.select('customer_id', 'review_date', 'product_category', 'star_rating')\n",
    "amazon.show()"
   ],
   "metadata": {
    "collapsed": false,
    "pycharm": {
     "name": "#%%\n",
     "is_executing": false
    }
   }
  },
  {
   "cell_type": "code",
   "execution_count": 7,
   "outputs": [
    {
     "name": "stdout",
     "text": [
      "+-------+--------------------+----------------+------------------+\n",
      "|summary|         customer_id|product_category|       star_rating|\n",
      "+-------+--------------------+----------------+------------------+\n",
      "|  count|             6931166|         6931165|           6931165|\n",
      "|   mean|2.9174252598883938E7|            null| 4.306755934969085|\n",
      "| stddev|1.5654668366694963E7|            null|1.1461060185900125|\n",
      "|    min|               10001|         Apparel|                 1|\n",
      "|    max|            53096589|        Wireless|                 5|\n",
      "+-------+--------------------+----------------+------------------+\n",
      "\n"
     ],
     "output_type": "stream"
    }
   ],
   "source": [
    "#Let's get some quick summary statistics\n",
    "amazon.describe().show()\n"
   ],
   "metadata": {
    "collapsed": false,
    "pycharm": {
     "name": "#%%\n",
     "is_executing": false
    }
   }
  },
  {
   "cell_type": "code",
   "execution_count": 8,
   "outputs": [
    {
     "data": {
      "text/plain": "6931166"
     },
     "metadata": {},
     "output_type": "execute_result",
     "execution_count": 8
    }
   ],
   "source": [
    "# How many rows are there eigenlijk in our dataframe?\n",
    "amazon.count()"
   ],
   "metadata": {
    "collapsed": false,
    "pycharm": {
     "name": "#%%\n",
     "is_executing": false
    }
   }
  },
  {
   "cell_type": "code",
   "execution_count": 9,
   "outputs": [
    {
     "name": "stdout",
     "text": [
      "customer_id with null values:  0\n",
      "review_date with null values:  615\n",
      "product_category with null values:  1\n",
      "star_rating with null values:  1\n"
     ],
     "output_type": "stream"
    }
   ],
   "source": [
    "#How many Null values do we have per column? \n",
    "for col in amazon.columns:\n",
    "    print(col, \"with null values: \", amazon.filter(amazon[col].isNull()).count())"
   ],
   "metadata": {
    "collapsed": false,
    "pycharm": {
     "name": "#%%\n",
     "is_executing": false
    }
   }
  }
 ],
 "metadata": {
  "kernelspec": {
   "display_name": "Python 3",
   "language": "python",
   "name": "python3"
  },
  "language_info": {
   "codemirror_mode": {
    "name": "ipython",
    "version": 2
   },
   "file_extension": ".py",
   "mimetype": "text/x-python",
   "name": "python",
   "nbconvert_exporter": "python",
   "pygments_lexer": "ipython2",
   "version": "2.7.6"
  },
  "pycharm": {
   "stem_cell": {
    "cell_type": "raw",
    "source": [],
    "metadata": {
     "collapsed": false
    }
   }
  }
 },
 "nbformat": 4,
 "nbformat_minor": 0
}
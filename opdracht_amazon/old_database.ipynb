{
 "cells": [
  {
   "cell_type": "markdown",
   "source": [
    "We now want to store this result in a table in a database.\n",
    "\n",
    "    Next you will need to install MySQL server (as explained in the lab session tutorial), create a database in the server and a table that can store per day the number of ad occurrencesfor each email and month the number of posts that this member has made.\n"
   ],
   "metadata": {
    "collapsed": false
   }
  },
  {
   "cell_type": "code",
   "execution_count": null,
   "outputs": [],
   "source": [
    "# Setting up a connection with our local database and creating a cursor\n",
    "\n",
    "cnx = mysql.connector.connect(\n",
    "    host = '127.0.0.1',\n",
    "    user = 'root',\n",
    "    passwd = database_password,\n",
    "    auth_plugin='mysql_native_password',\n",
    "    buffered=True\n",
    ")\n",
    "\n",
    "my_cursor = cnx.cursor()\n",
    "\n"
   ],
   "metadata": {
    "collapsed": false,
    "pycharm": {
     "name": "#%%\n"
    }
   }
  },
  {
   "cell_type": "code",
   "execution_count": null,
   "outputs": [],
   "source": [
    "# Here we run the \"amazon.sql\" file. For more information, see comments in that file.\n",
    "\n",
    "path = \"amazon.sql\"\n",
    "for line in open(path).read().split(';\\n'):\n",
    "    my_cursor.execute(line)\n",
    "\n"
   ],
   "metadata": {
    "collapsed": false,
    "pycharm": {
     "name": "#%%\n"
    }
   }
  },
  {
   "cell_type": "code",
   "execution_count": null,
   "outputs": [],
   "source": [
    "# Read the documentation to know what this method does you lazy fuck! \n",
    "\n",
    "collect = final_join.collect()\n",
    "\n",
    "'''\n",
    "Ok, I'll help because who in the world reads documentation: \n",
    "collect() returns all the records as a list of Row. \n",
    "\n",
    "So we'll get a list of all the records in this form: \n",
    "Row(email=u'Abhishek22802@gmail.com', creationDate=1, count=93)\n",
    "'''\n",
    "\n"
   ],
   "metadata": {
    "collapsed": false,
    "pycharm": {
     "name": "#%%\n"
    }
   }
  },
  {
   "cell_type": "code",
   "execution_count": null,
   "outputs": [],
   "source": [
    "# I put this in a different cell because that fucker takes an eternity to run.\n",
    "\n",
    "total = final_join.count()\n"
   ],
   "metadata": {
    "collapsed": false,
    "pycharm": {
     "name": "#%%\n"
    }
   }
  },
  {
   "cell_type": "code",
   "execution_count": null,
   "outputs": [],
   "source": [
    "# Inserting our data into the database. Give this a few minutes to run. \n",
    "for x in range (total):\n",
    "    \n",
    "    #TODO: gebruik dict ipv int zodat volgorde niet meer uitmaakt\n",
    "    email = collect[x][0]\n",
    "    creationDate = collect[x][1]\n",
    "    counts = collect[x][2]\n",
    "    my_cursor.execute(\"INSERT INTO mail(email,creationDate,counts) values(%s, %s,%s)\", (email,creationDate,counts))\n",
    "\n",
    "\n",
    "    if(x%10000 == 0):\n",
    "        cnx.commit()\n",
    "        \n",
    "        progress = round(100 * x/total, 2)\n",
    "\n",
    "        print(\"Progress: %s%%\" % progress)\n",
    "        \n",
    "cnx.commit()\n",
    "print(\"DONE!\")      \n"
   ],
   "metadata": {
    "collapsed": false,
    "pycharm": {
     "name": "#%%\n"
    }
   }
  },
  {
   "cell_type": "code",
   "execution_count": null,
   "metadata": {
    "collapsed": true
   },
   "outputs": [],
   "source": [
    "\n"
   ]
  }
 ],
 "metadata": {
  "kernelspec": {
   "display_name": "Python 3",
   "language": "python",
   "name": "python3"
  },
  "language_info": {
   "codemirror_mode": {
    "name": "ipython",
    "version": 2
   },
   "file_extension": ".py",
   "mimetype": "text/x-python",
   "name": "python",
   "nbconvert_exporter": "python",
   "pygments_lexer": "ipython2",
   "version": "2.7.6"
  },
  "pycharm": {
   "stem_cell": {
    "cell_type": "raw",
    "source": [],
    "metadata": {
     "collapsed": false
    }
   }
  }
 },
 "nbformat": 4,
 "nbformat_minor": 0
}